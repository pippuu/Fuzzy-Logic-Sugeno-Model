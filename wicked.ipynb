{
 "metadata": {
  "language_info": {
   "codemirror_mode": {
    "name": "ipython",
    "version": 3
   },
   "file_extension": ".py",
   "mimetype": "text/x-python",
   "name": "python",
   "nbconvert_exporter": "python",
   "pygments_lexer": "ipython3",
   "version": "3.9.4"
  },
  "orig_nbformat": 2,
  "kernelspec": {
   "name": "python394jvsc74a57bd0ac59ebe37160ed0dfa835113d9b8498d9f09ceb179beaac4002f036b9467c963",
   "display_name": "Python 3.9.4 64-bit"
  },
  "metadata": {
   "interpreter": {
    "hash": "ac59ebe37160ed0dfa835113d9b8498d9f09ceb179beaac4002f036b9467c963"
   }
  }
 },
 "nbformat": 4,
 "nbformat_minor": 2,
 "cells": [
  {
   "source": [
    "## Library and Dataset"
   ],
   "cell_type": "markdown",
   "metadata": {}
  },
  {
   "source": [
    "# Import Library\n",
    "import pandas as pd\n",
    "import matplotlib.pyplot as plt\n",
    "\n",
    "# Import Dataset\n",
    "df = pd.read_excel('./Mahasiswa.xls')\n"
   ],
   "cell_type": "code",
   "metadata": {},
   "execution_count": 7,
   "outputs": []
  },
  {
   "source": [
    "## Class"
   ],
   "cell_type": "markdown",
   "metadata": {}
  },
  {
   "cell_type": "code",
   "execution_count": 8,
   "metadata": {},
   "outputs": [],
   "source": [
    "class mahasiswa:\n",
    "    def __init__(self):\n",
    "        self.id = 0\n",
    "        self.penghasilan = 0\n",
    "        self.pengeluaran = 0\n",
    "\n",
    "        self.fuzzyPenghasilanSedikit = 0\n",
    "        self.fuzzyPenghasilanSedang = 0\n",
    "        self.fuzzyPenghasilanBanyak = 0\n",
    "        \n",
    "        self.fuzzyPengeluaranSedikit = 0\n",
    "        self.fuzzyPengeluaranSedang = 0\n",
    "        self.fuzzyPengeluaranBanyak = 0\n",
    "\n",
    "        self.inferenceDitolak = 0\n",
    "        self.inferenceDipertimbangkan = 0\n",
    "        self.inferenceDiterima = 0\n",
    "        \n",
    "\n",
    "        self.valDefuzzy = 0"
   ]
  },
  {
   "source": [
    "## Functions"
   ],
   "cell_type": "markdown",
   "metadata": {}
  },
  {
   "cell_type": "code",
   "execution_count": 39,
   "metadata": {},
   "outputs": [],
   "source": [
    "def converts(df):\n",
    "    arrmhs = []\n",
    "    for i in range(len(df)):\n",
    "        mhs = mahasiswa()\n",
    "        mhs.id = df.iloc[i][0]\n",
    "        mhs.penghasilan = df.iloc[i][1]\n",
    "        mhs.pengeluaran = df.iloc[i][2]\n",
    "        arrmhs.append(mhs)\n",
    "    return arrmhs\n",
    "\n",
    "def fuzzificationPenghasilan(list_mhs):\n",
    "    if(list_mhs.penghasilan <= 4):\n",
    "        list_mhs.fuzzyPenghasilanSedikit = 1\n",
    "    elif(list_mhs.penghasilan > 4 and list_mhs.penghasilan < 8):\n",
    "        list_mhs.fuzzyPenghasilanSedikit = - (list_mhs.penghasilan - 8) / (8 - 4)\n",
    "        list_mhs.fuzzyPenghasilanSedang = (list_mhs.penghasilan - 4) / (8 - 4)\n",
    "    elif(list_mhs.penghasilan <= 12):\n",
    "        list_mhs.fuzzyPenghasilanSedang = 1\n",
    "    elif(list_mhs.penghasilan > 12 and list_mhs.penghasilan < 15):\n",
    "        list_mhs.fuzzyPenghasilanSedang = -(list_mhs.penghasilan - 15) / (15 - 12)\n",
    "        list_mhs.fuzzyPenghasilanBanyak = (list_mhs.penghasilan - 12) / (15 - 12)\n",
    "    elif(list_mhs.penghasilan <= 20):\n",
    "        list_mhs.fuzzyPenghasilanBanyak = 1\n",
    "\n",
    "    return list_mhs\n",
    "\n",
    "def fuzzificationPengeluaran(list_mhs):\n",
    "    if(list_mhs.pengeluaran <= 2):\n",
    "        list_mhs.fuzzyPengeluaranSedikit = 1\n",
    "    elif(list_mhs.pengeluaran > 2 and list_mhs.pengeluaran < 3.5):\n",
    "        list_mhs.fuzzyPengeluaranSedikit = - (list_mhs.pengeluaran - 3.5) / (3.5 - 2)\n",
    "        list_mhs.fuzzyPengeluaranSedang = (list_mhs.pengeluaran - 2) / (3.5 - 2)\n",
    "    elif(list_mhs.pengeluaran <= 5.5):\n",
    "        list_mhs.fuzzyPengeluaranSedang = 1\n",
    "    elif(list_mhs.pengeluaran > 5.5 and list_mhs.pengeluaran < 6.5):\n",
    "        list_mhs.fuzzyPengeluaranSedang = -(list_mhs.pengeluaran - 6.5) / (6.5 - 5.5)\n",
    "        list_mhs.fuzzyPengeluaranBanyak = (list_mhs.pengeluaran - 5.5) / (6.5 - 5.5)\n",
    "    elif(list_mhs.pengeluaran <= 12):\n",
    "        list_mhs.fuzzyPengeluaranBanyak = 1\n",
    "    \n",
    "    return list_mhs\n",
    "\n",
    "def inferences(list_mhs):\n",
    "    temp_ditolak = []\n",
    "    valditolak = 0\n",
    "    temp_dipertimbangkan = []\n",
    "    valdipertimbangkan = 0\n",
    "    temp_diterima = [] \n",
    "    valditerima = 0\n",
    "    if(bool(list_mhs.fuzzyPenghasilanSedikit) == True):\n",
    "        if(bool(list_mhs.fuzzyPengeluaranSedikit) == True):\n",
    "            temp_dipertimbangkan.append(min(list_mhs.fuzzyPenghasilanSedikit, list_mhs.fuzzyPengeluaranSedikit))\n",
    "        if(bool(list_mhs.fuzzyPengeluaranSedang) == True):\n",
    "            temp_diterima.append(min(list_mhs.fuzzyPenghasilanSedikit, list_mhs.fuzzyPengeluaranSedang))\n",
    "        if(bool(list_mhs.fuzzyPengeluaranBanyak) == True):\n",
    "            temp_diterima.append(min(list_mhs.fuzzyPenghasilanSedikit, list_mhs.fuzzyPengeluaranBanyak))\n",
    "    if(bool(list_mhs.fuzzyPenghasilanSedang) == True):\n",
    "        if(bool(list_mhs.fuzzyPengeluaranSedikit) == True):\n",
    "            temp_ditolak.append(min(list_mhs.fuzzyPenghasilanSedang, list_mhs.fuzzyPengeluaranSedikit))\n",
    "        if(bool(list_mhs.fuzzyPengeluaranSedang) == True):\n",
    "            temp_dipertimbangkan.append(min(list_mhs.fuzzyPenghasilanSedang, list_mhs.fuzzyPengeluaranSedang))\n",
    "        if(bool(list_mhs.fuzzyPengeluaranBanyak) == True):\n",
    "            temp_diterima.append(min(list_mhs.fuzzyPenghasilanSedang, list_mhs.fuzzyPengeluaranBanyak))\n",
    "    if(bool(list_mhs.fuzzyPenghasilanBanyak) == True):\n",
    "        if(bool(list_mhs.fuzzyPengeluaranSedikit) == True):\n",
    "            temp_ditolak.append(min(list_mhs.fuzzyPenghasilanBanyak, list_mhs.fuzzyPengeluaranSedikit))\n",
    "        if(bool(list_mhs.fuzzyPengeluaranSedang) == True):\n",
    "            temp_ditolak.append(min(list_mhs.fuzzyPenghasilanBanyak, list_mhs.fuzzyPengeluaranSedang))\n",
    "        if(bool(list_mhs.fuzzyPengeluaranBanyak) == True):\n",
    "            temp_dipertimbangkan.append(min(list_mhs.fuzzyPenghasilanBanyak, list_mhs.fuzzyPengeluaranBanyak))\n",
    "\n",
    "    if(bool(temp_ditolak) == True):\n",
    "        valditolak = max(temp_ditolak)\n",
    "    if(bool(temp_dipertimbangkan) == True):\n",
    "        valdipertimbangkan = max(temp_dipertimbangkan)\n",
    "    if(bool(temp_diterima) == True):\n",
    "        valditerima = max(temp_diterima)\n",
    "\n",
    "    return valditolak, valdipertimbangkan, valditerima\n",
    "    \n",
    "def defuzzification(list_mhs):\n",
    "    y = (list_mhs.inferenceDitolak*29) + (list_mhs.inferenceDipertimbangkan*43) + (list_mhs.inferenceDiterima*61) / (list_mhs.inferenceDitolak + list_mhs.inferenceDipertimbangkan + list_mhs.inferenceDiterima)\n",
    "    return y\n",
    "\n",
    "def selectionSort(list_mhs):\n",
    "    lists = list.copy(list_mhs)\n",
    "    for i in range(len(lists)):\n",
    "        max_idx = i\n",
    "        for j in range(i+1, len(lists)):\n",
    "            if lists[max_idx].valDefuzzy < lists[j].valDefuzzy:\n",
    "                max_idx = j\n",
    "        \n",
    "        lists[i], lists[max_idx] = lists[max_idx], lists[i]\n",
    "    return lists\n"
   ]
  },
  {
   "source": [
    "## Main Program"
   ],
   "cell_type": "markdown",
   "metadata": {}
  },
  {
   "cell_type": "code",
   "execution_count": 40,
   "metadata": {
    "tags": []
   },
   "outputs": [
    {
     "output_type": "stream",
     "name": "stdout",
     "text": [
      "Id : 1.0, Penghasilan : 18.76, Pengeluaran : 9.68\nId : 2.0, Penghasilan : 8.35, Pengeluaran : 4.52\nId : 3.0, Penghasilan : 17.03, Pengeluaran : 10.11\nId : 4.0, Penghasilan : 8.23, Pengeluaran : 9.25\nId : 5.0, Penghasilan : 16.89, Pengeluaran : 6.99\nId : 6.0, Penghasilan : 15.19, Pengeluaran : 7.2\nId : 7.0, Penghasilan : 9.03, Pengeluaran : 9.35\nId : 8.0, Penghasilan : 17.99, Pengeluaran : 7.1\nId : 9.0, Penghasilan : 17.09, Pengeluaran : 10.54\nId : 10.0, Penghasilan : 18.43, Pengeluaran : 7.74\nId : 11.0, Penghasilan : 5.78, Pengeluaran : 6.66\nId : 12.0, Penghasilan : 14.29, Pengeluaran : 8.06\nId : 13.0, Penghasilan : 5.55, Pengeluaran : 6.35\nId : 14.0, Penghasilan : 13.06, Pengeluaran : 8.82\nId : 15.0, Penghasilan : 17.69, Pengeluaran : 8.17\nId : 16.0, Penghasilan : 12.39, Pengeluaran : 9.78\nId : 17.0, Penghasilan : 16.6, Pengeluaran : 9.78\nId : 18.0, Penghasilan : 15.57, Pengeluaran : 9.68\nId : 19.0, Penghasilan : 9.96, Pengeluaran : 4.48\nId : 20.0, Penghasilan : 19.62, Pengeluaran : 8.28\nId : 21.0, Penghasilan : 15.29, Pengeluaran : 9.89\nId : 22.0, Penghasilan : 18.71, Pengeluaran : 9.46\nId : 23.0, Penghasilan : 14.42, Pengeluaran : 8.49\nId : 24.0, Penghasilan : 19.27, Pengeluaran : 10.21\nId : 25.0, Penghasilan : 6.48, Pengeluaran : 7.85\nId : 26.0, Penghasilan : 14.0, Pengeluaran : 9.46\nId : 27.0, Penghasilan : 16.32, Pengeluaran : 7.42\nId : 28.0, Penghasilan : 18.03, Pengeluaran : 6.77\nId : 29.0, Penghasilan : 17.58, Pengeluaran : 10.21\nId : 30.0, Penghasilan : 18.47, Pengeluaran : 8.6\nId : 31.0, Penghasilan : 18.7, Pengeluaran : 9.57\nId : 32.0, Penghasilan : 16.54, Pengeluaran : 8.28\nId : 33.0, Penghasilan : 7.03, Pengeluaran : 10.11\nId : 34.0, Penghasilan : 17.81, Pengeluaran : 6.56\nId : 35.0, Penghasilan : 17.02, Pengeluaran : 7.53\nId : 36.0, Penghasilan : 13.92, Pengeluaran : 7.2\nId : 37.0, Penghasilan : 13.52, Pengeluaran : 9.46\nId : 38.0, Penghasilan : 9.94, Pengeluaran : 10.82\nId : 39.0, Penghasilan : 8.02, Pengeluaran : 4.65\nId : 40.0, Penghasilan : 16.32, Pengeluaran : 9.78\nId : 41.0, Penghasilan : 4.62, Pengeluaran : 6.88\nId : 42.0, Penghasilan : 14.06, Pengeluaran : 10.43\nId : 43.0, Penghasilan : 14.03, Pengeluaran : 10.0\nId : 44.0, Penghasilan : 17.37, Pengeluaran : 9.68\nId : 45.0, Penghasilan : 16.97, Pengeluaran : 9.46\nId : 46.0, Penghasilan : 9.58, Pengeluaran : 10.04\nId : 47.0, Penghasilan : 9.63, Pengeluaran : 9.78\nId : 48.0, Penghasilan : 9.02, Pengeluaran : 3.76\nId : 49.0, Penghasilan : 9.52, Pengeluaran : 10.93\nId : 50.0, Penghasilan : 9.31, Pengeluaran : 11.29\nId : 51.0, Penghasilan : 15.77, Pengeluaran : 7.42\nId : 52.0, Penghasilan : 9.1, Pengeluaran : 9.57\nId : 53.0, Penghasilan : 14.75, Pengeluaran : 7.31\nId : 54.0, Penghasilan : 16.22, Pengeluaran : 8.06\nId : 55.0, Penghasilan : 16.29, Pengeluaran : 9.14\nId : 56.0, Penghasilan : 13.81, Pengeluaran : 9.25\nId : 57.0, Penghasilan : 17.87, Pengeluaran : 10.0\nId : 58.0, Penghasilan : 18.87, Pengeluaran : 10.64\nId : 59.0, Penghasilan : 8.2, Pengeluaran : 3.55\nId : 60.0, Penghasilan : 9.32, Pengeluaran : 5.16\nId : 61.0, Penghasilan : 9.26, Pengeluaran : 3.91\nId : 62.0, Penghasilan : 13.31, Pengeluaran : 10.32\nId : 63.0, Penghasilan : 9.29, Pengeluaran : 9.25\nId : 64.0, Penghasilan : 18.28, Pengeluaran : 10.0\nId : 65.0, Penghasilan : 13.11, Pengeluaran : 10.32\nId : 66.0, Penghasilan : 9.63, Pengeluaran : 9.78\nId : 67.0, Penghasilan : 13.67, Pengeluaran : 7.1\nId : 68.0, Penghasilan : 14.34, Pengeluaran : 8.92\nId : 69.0, Penghasilan : 9.86, Pengeluaran : 10.43\nId : 70.0, Penghasilan : 17.68, Pengeluaran : 7.63\nId : 71.0, Penghasilan : 14.97, Pengeluaran : 7.74\nId : 72.0, Penghasilan : 9.71, Pengeluaran : 4.81\nId : 73.0, Penghasilan : 15.76, Pengeluaran : 8.06\nId : 74.0, Penghasilan : 8.52, Pengeluaran : 3.98\nId : 75.0, Penghasilan : 5.09, Pengeluaran : 7.53\nId : 76.0, Penghasilan : 12.17, Pengeluaran : 7.2\nId : 77.0, Penghasilan : 16.52, Pengeluaran : 8.71\nId : 78.0, Penghasilan : 15.95, Pengeluaran : 7.53\nId : 79.0, Penghasilan : 8.52, Pengeluaran : 10.32\nId : 80.0, Penghasilan : 15.92, Pengeluaran : 7.31\nId : 81.0, Penghasilan : 9.18, Pengeluaran : 9.46\nId : 82.0, Penghasilan : 17.58, Pengeluaran : 10.54\nId : 83.0, Penghasilan : 17.88, Pengeluaran : 10.64\nId : 84.0, Penghasilan : 14.86, Pengeluaran : 8.6\nId : 85.0, Penghasilan : 14.93, Pengeluaran : 8.28\nId : 86.0, Penghasilan : 14.7, Pengeluaran : 8.6\nId : 87.0, Penghasilan : 18.19, Pengeluaran : 7.63\nId : 88.0, Penghasilan : 16.08, Pengeluaran : 7.85\nId : 89.0, Penghasilan : 15.44, Pengeluaran : 8.28\nId : 90.0, Penghasilan : 19.69, Pengeluaran : 8.06\nId : 91.0, Penghasilan : 15.58, Pengeluaran : 7.31\nId : 92.0, Penghasilan : 19.23, Pengeluaran : 8.17\nId : 93.0, Penghasilan : 9.47, Pengeluaran : 4.84\nId : 94.0, Penghasilan : 9.07, Pengeluaran : 10.21\nId : 95.0, Penghasilan : 16.9, Pengeluaran : 7.42\nId : 96.0, Penghasilan : 17.31, Pengeluaran : 10.0\nId : 97.0, Penghasilan : 18.85, Pengeluaran : 9.78\nId : 98.0, Penghasilan : 14.52, Pengeluaran : 10.32\nId : 99.0, Penghasilan : 9.83, Pengeluaran : 10.64\nId : 100.0, Penghasilan : 7.84, Pengeluaran : 3.44\n\nId : 1.0, Penghasilan Sedikit : 0, Penghasilan Sedang : 0, Penghasilan Banyak : 1\nId : 1.0, Pengeluaran Sedikit : 0. Pengeluaran Sedang : 0, Pengeluaran Banyak : 1\nId : 2.0, Penghasilan Sedikit : 0, Penghasilan Sedang : 1, Penghasilan Banyak : 0\nId : 2.0, Pengeluaran Sedikit : 0. Pengeluaran Sedang : 1, Pengeluaran Banyak : 0\nId : 3.0, Penghasilan Sedikit : 0, Penghasilan Sedang : 0, Penghasilan Banyak : 1\nId : 3.0, Pengeluaran Sedikit : 0. Pengeluaran Sedang : 0, Pengeluaran Banyak : 1\nId : 4.0, Penghasilan Sedikit : 0, Penghasilan Sedang : 1, Penghasilan Banyak : 0\nId : 4.0, Pengeluaran Sedikit : 0. Pengeluaran Sedang : 0, Pengeluaran Banyak : 1\nId : 5.0, Penghasilan Sedikit : 0, Penghasilan Sedang : 0, Penghasilan Banyak : 1\nId : 5.0, Pengeluaran Sedikit : 0. Pengeluaran Sedang : 0, Pengeluaran Banyak : 1\nId : 6.0, Penghasilan Sedikit : 0, Penghasilan Sedang : 0, Penghasilan Banyak : 1\nId : 6.0, Pengeluaran Sedikit : 0. Pengeluaran Sedang : 0, Pengeluaran Banyak : 1\nId : 7.0, Penghasilan Sedikit : 0, Penghasilan Sedang : 1, Penghasilan Banyak : 0\nId : 7.0, Pengeluaran Sedikit : 0. Pengeluaran Sedang : 0, Pengeluaran Banyak : 1\nId : 8.0, Penghasilan Sedikit : 0, Penghasilan Sedang : 0, Penghasilan Banyak : 1\nId : 8.0, Pengeluaran Sedikit : 0. Pengeluaran Sedang : 0, Pengeluaran Banyak : 1\nId : 9.0, Penghasilan Sedikit : 0, Penghasilan Sedang : 0, Penghasilan Banyak : 1\nId : 9.0, Pengeluaran Sedikit : 0. Pengeluaran Sedang : 0, Pengeluaran Banyak : 1\nId : 10.0, Penghasilan Sedikit : 0, Penghasilan Sedang : 0, Penghasilan Banyak : 1\nId : 10.0, Pengeluaran Sedikit : 0. Pengeluaran Sedang : 0, Pengeluaran Banyak : 1\nId : 11.0, Penghasilan Sedikit : 0.5549999999999999, Penghasilan Sedang : 0.44500000000000006, Penghasilan Banyak : 0\nId : 11.0, Pengeluaran Sedikit : 0. Pengeluaran Sedang : 0, Pengeluaran Banyak : 1\nId : 12.0, Penghasilan Sedikit : 0, Penghasilan Sedang : 0.23666666666666694, Penghasilan Banyak : 0.7633333333333331\nId : 12.0, Pengeluaran Sedikit : 0. Pengeluaran Sedang : 0, Pengeluaran Banyak : 1\nId : 13.0, Penghasilan Sedikit : 0.6125, Penghasilan Sedang : 0.38749999999999996, Penghasilan Banyak : 0\nId : 13.0, Pengeluaran Sedikit : 0. Pengeluaran Sedang : 0.15000000000000036, Pengeluaran Banyak : 0.8499999999999996\nId : 14.0, Penghasilan Sedikit : 0, Penghasilan Sedang : 0.6466666666666665, Penghasilan Banyak : 0.3533333333333335\nId : 14.0, Pengeluaran Sedikit : 0. Pengeluaran Sedang : 0, Pengeluaran Banyak : 1\nId : 15.0, Penghasilan Sedikit : 0, Penghasilan Sedang : 0, Penghasilan Banyak : 1\nId : 15.0, Pengeluaran Sedikit : 0. Pengeluaran Sedang : 0, Pengeluaran Banyak : 1\nId : 16.0, Penghasilan Sedikit : 0, Penghasilan Sedang : 0.8699999999999998, Penghasilan Banyak : 0.1300000000000002\nId : 16.0, Pengeluaran Sedikit : 0. Pengeluaran Sedang : 0, Pengeluaran Banyak : 1\nId : 17.0, Penghasilan Sedikit : 0, Penghasilan Sedang : 0, Penghasilan Banyak : 1\nId : 17.0, Pengeluaran Sedikit : 0. Pengeluaran Sedang : 0, Pengeluaran Banyak : 1\nId : 18.0, Penghasilan Sedikit : 0, Penghasilan Sedang : 0, Penghasilan Banyak : 1\nId : 18.0, Pengeluaran Sedikit : 0. Pengeluaran Sedang : 0, Pengeluaran Banyak : 1\nId : 19.0, Penghasilan Sedikit : 0, Penghasilan Sedang : 1, Penghasilan Banyak : 0\nId : 19.0, Pengeluaran Sedikit : 0. Pengeluaran Sedang : 1, Pengeluaran Banyak : 0\nId : 20.0, Penghasilan Sedikit : 0, Penghasilan Sedang : 0, Penghasilan Banyak : 1\nId : 20.0, Pengeluaran Sedikit : 0. Pengeluaran Sedang : 0, Pengeluaran Banyak : 1\nId : 21.0, Penghasilan Sedikit : 0, Penghasilan Sedang : 0, Penghasilan Banyak : 1\nId : 21.0, Pengeluaran Sedikit : 0. Pengeluaran Sedang : 0, Pengeluaran Banyak : 1\nId : 22.0, Penghasilan Sedikit : 0, Penghasilan Sedang : 0, Penghasilan Banyak : 1\nId : 22.0, Pengeluaran Sedikit : 0. Pengeluaran Sedang : 0, Pengeluaran Banyak : 1\nId : 23.0, Penghasilan Sedikit : 0, Penghasilan Sedang : 0.19333333333333336, Penghasilan Banyak : 0.8066666666666666\nId : 23.0, Pengeluaran Sedikit : 0. Pengeluaran Sedang : 0, Pengeluaran Banyak : 1\nId : 24.0, Penghasilan Sedikit : 0, Penghasilan Sedang : 0, Penghasilan Banyak : 1\nId : 24.0, Pengeluaran Sedikit : 0. Pengeluaran Sedang : 0, Pengeluaran Banyak : 1\nId : 25.0, Penghasilan Sedikit : 0.3799999999999999, Penghasilan Sedang : 0.6200000000000001, Penghasilan Banyak : 0\nId : 25.0, Pengeluaran Sedikit : 0. Pengeluaran Sedang : 0, Pengeluaran Banyak : 1\nId : 26.0, Penghasilan Sedikit : 0, Penghasilan Sedang : 0.3333333333333333, Penghasilan Banyak : 0.6666666666666666\nId : 26.0, Pengeluaran Sedikit : 0. Pengeluaran Sedang : 0, Pengeluaran Banyak : 1\nId : 27.0, Penghasilan Sedikit : 0, Penghasilan Sedang : 0, Penghasilan Banyak : 1\nId : 27.0, Pengeluaran Sedikit : 0. Pengeluaran Sedang : 0, Pengeluaran Banyak : 1\nId : 28.0, Penghasilan Sedikit : 0, Penghasilan Sedang : 0, Penghasilan Banyak : 1\nId : 28.0, Pengeluaran Sedikit : 0. Pengeluaran Sedang : 0, Pengeluaran Banyak : 1\nId : 29.0, Penghasilan Sedikit : 0, Penghasilan Sedang : 0, Penghasilan Banyak : 1\nId : 29.0, Pengeluaran Sedikit : 0. Pengeluaran Sedang : 0, Pengeluaran Banyak : 1\nId : 30.0, Penghasilan Sedikit : 0, Penghasilan Sedang : 0, Penghasilan Banyak : 1\nId : 30.0, Pengeluaran Sedikit : 0. Pengeluaran Sedang : 0, Pengeluaran Banyak : 1\nId : 31.0, Penghasilan Sedikit : 0, Penghasilan Sedang : 0, Penghasilan Banyak : 1\nId : 31.0, Pengeluaran Sedikit : 0. Pengeluaran Sedang : 0, Pengeluaran Banyak : 1\nId : 32.0, Penghasilan Sedikit : 0, Penghasilan Sedang : 0, Penghasilan Banyak : 1\nId : 32.0, Pengeluaran Sedikit : 0. Pengeluaran Sedang : 0, Pengeluaran Banyak : 1\nId : 33.0, Penghasilan Sedikit : 0.24249999999999994, Penghasilan Sedang : 0.7575000000000001, Penghasilan Banyak : 0\nId : 33.0, Pengeluaran Sedikit : 0. Pengeluaran Sedang : 0, Pengeluaran Banyak : 1\nId : 34.0, Penghasilan Sedikit : 0, Penghasilan Sedang : 0, Penghasilan Banyak : 1\nId : 34.0, Pengeluaran Sedikit : 0. Pengeluaran Sedang : 0, Pengeluaran Banyak : 1\nId : 35.0, Penghasilan Sedikit : 0, Penghasilan Sedang : 0, Penghasilan Banyak : 1\nId : 35.0, Pengeluaran Sedikit : 0. Pengeluaran Sedang : 0, Pengeluaran Banyak : 1\nId : 36.0, Penghasilan Sedikit : 0, Penghasilan Sedang : 0.36000000000000004, Penghasilan Banyak : 0.64\nId : 36.0, Pengeluaran Sedikit : 0. Pengeluaran Sedang : 0, Pengeluaran Banyak : 1\nId : 37.0, Penghasilan Sedikit : 0, Penghasilan Sedang : 0.49333333333333346, Penghasilan Banyak : 0.5066666666666665\nId : 37.0, Pengeluaran Sedikit : 0. Pengeluaran Sedang : 0, Pengeluaran Banyak : 1\nId : 38.0, Penghasilan Sedikit : 0, Penghasilan Sedang : 1, Penghasilan Banyak : 0\nId : 38.0, Pengeluaran Sedikit : 0. Pengeluaran Sedang : 0, Pengeluaran Banyak : 1\nId : 39.0, Penghasilan Sedikit : 0, Penghasilan Sedang : 1, Penghasilan Banyak : 0\nId : 39.0, Pengeluaran Sedikit : 0. Pengeluaran Sedang : 1, Pengeluaran Banyak : 0\nId : 40.0, Penghasilan Sedikit : 0, Penghasilan Sedang : 0, Penghasilan Banyak : 1\nId : 40.0, Pengeluaran Sedikit : 0. Pengeluaran Sedang : 0, Pengeluaran Banyak : 1\nId : 41.0, Penghasilan Sedikit : 0.845, Penghasilan Sedang : 0.15500000000000003, Penghasilan Banyak : 0\nId : 41.0, Pengeluaran Sedikit : 0. Pengeluaran Sedang : 0, Pengeluaran Banyak : 1\nId : 42.0, Penghasilan Sedikit : 0, Penghasilan Sedang : 0.3133333333333332, Penghasilan Banyak : 0.6866666666666669\nId : 42.0, Pengeluaran Sedikit : 0. Pengeluaran Sedang : 0, Pengeluaran Banyak : 1\nId : 43.0, Penghasilan Sedikit : 0, Penghasilan Sedang : 0.32333333333333353, Penghasilan Banyak : 0.6766666666666664\nId : 43.0, Pengeluaran Sedikit : 0. Pengeluaran Sedang : 0, Pengeluaran Banyak : 1\nId : 44.0, Penghasilan Sedikit : 0, Penghasilan Sedang : 0, Penghasilan Banyak : 1\nId : 44.0, Pengeluaran Sedikit : 0. Pengeluaran Sedang : 0, Pengeluaran Banyak : 1\nId : 45.0, Penghasilan Sedikit : 0, Penghasilan Sedang : 0, Penghasilan Banyak : 1\nId : 45.0, Pengeluaran Sedikit : 0. Pengeluaran Sedang : 0, Pengeluaran Banyak : 1\nId : 46.0, Penghasilan Sedikit : 0, Penghasilan Sedang : 1, Penghasilan Banyak : 0\nId : 46.0, Pengeluaran Sedikit : 0. Pengeluaran Sedang : 0, Pengeluaran Banyak : 1\nId : 47.0, Penghasilan Sedikit : 0, Penghasilan Sedang : 1, Penghasilan Banyak : 0\nId : 47.0, Pengeluaran Sedikit : 0. Pengeluaran Sedang : 0, Pengeluaran Banyak : 1\nId : 48.0, Penghasilan Sedikit : 0, Penghasilan Sedang : 1, Penghasilan Banyak : 0\nId : 48.0, Pengeluaran Sedikit : 0. Pengeluaran Sedang : 1, Pengeluaran Banyak : 0\nId : 49.0, Penghasilan Sedikit : 0, Penghasilan Sedang : 1, Penghasilan Banyak : 0\nId : 49.0, Pengeluaran Sedikit : 0. Pengeluaran Sedang : 0, Pengeluaran Banyak : 1\nId : 50.0, Penghasilan Sedikit : 0, Penghasilan Sedang : 1, Penghasilan Banyak : 0\nId : 50.0, Pengeluaran Sedikit : 0. Pengeluaran Sedang : 0, Pengeluaran Banyak : 1\nId : 51.0, Penghasilan Sedikit : 0, Penghasilan Sedang : 0, Penghasilan Banyak : 1\nId : 51.0, Pengeluaran Sedikit : 0. Pengeluaran Sedang : 0, Pengeluaran Banyak : 1\nId : 52.0, Penghasilan Sedikit : 0, Penghasilan Sedang : 1, Penghasilan Banyak : 0\nId : 52.0, Pengeluaran Sedikit : 0. Pengeluaran Sedang : 0, Pengeluaran Banyak : 1\nId : 53.0, Penghasilan Sedikit : 0, Penghasilan Sedang : 0.08333333333333333, Penghasilan Banyak : 0.9166666666666666\nId : 53.0, Pengeluaran Sedikit : 0. Pengeluaran Sedang : 0, Pengeluaran Banyak : 1\nId : 54.0, Penghasilan Sedikit : 0, Penghasilan Sedang : 0, Penghasilan Banyak : 1\nId : 54.0, Pengeluaran Sedikit : 0. Pengeluaran Sedang : 0, Pengeluaran Banyak : 1\nId : 55.0, Penghasilan Sedikit : 0, Penghasilan Sedang : 0, Penghasilan Banyak : 1\nId : 55.0, Pengeluaran Sedikit : 0. Pengeluaran Sedang : 0, Pengeluaran Banyak : 1\nId : 56.0, Penghasilan Sedikit : 0, Penghasilan Sedang : 0.3966666666666665, Penghasilan Banyak : 0.6033333333333335\nId : 56.0, Pengeluaran Sedikit : 0. Pengeluaran Sedang : 0, Pengeluaran Banyak : 1\nId : 57.0, Penghasilan Sedikit : 0, Penghasilan Sedang : 0, Penghasilan Banyak : 1\nId : 57.0, Pengeluaran Sedikit : 0. Pengeluaran Sedang : 0, Pengeluaran Banyak : 1\nId : 58.0, Penghasilan Sedikit : 0, Penghasilan Sedang : 0, Penghasilan Banyak : 1\nId : 58.0, Pengeluaran Sedikit : 0. Pengeluaran Sedang : 0, Pengeluaran Banyak : 1\nId : 59.0, Penghasilan Sedikit : 0, Penghasilan Sedang : 1, Penghasilan Banyak : 0\nId : 59.0, Pengeluaran Sedikit : 0. Pengeluaran Sedang : 1, Pengeluaran Banyak : 0\nId : 60.0, Penghasilan Sedikit : 0, Penghasilan Sedang : 1, Penghasilan Banyak : 0\nId : 60.0, Pengeluaran Sedikit : 0. Pengeluaran Sedang : 1, Pengeluaran Banyak : 0\nId : 61.0, Penghasilan Sedikit : 0, Penghasilan Sedang : 1, Penghasilan Banyak : 0\nId : 61.0, Pengeluaran Sedikit : 0. Pengeluaran Sedang : 1, Pengeluaran Banyak : 0\nId : 62.0, Penghasilan Sedikit : 0, Penghasilan Sedang : 0.5633333333333331, Penghasilan Banyak : 0.4366666666666668\nId : 62.0, Pengeluaran Sedikit : 0. Pengeluaran Sedang : 0, Pengeluaran Banyak : 1\nId : 63.0, Penghasilan Sedikit : 0, Penghasilan Sedang : 1, Penghasilan Banyak : 0\nId : 63.0, Pengeluaran Sedikit : 0. Pengeluaran Sedang : 0, Pengeluaran Banyak : 1\nId : 64.0, Penghasilan Sedikit : 0, Penghasilan Sedang : 0, Penghasilan Banyak : 1\nId : 64.0, Pengeluaran Sedikit : 0. Pengeluaran Sedang : 0, Pengeluaran Banyak : 1\nId : 65.0, Penghasilan Sedikit : 0, Penghasilan Sedang : 0.6300000000000002, Penghasilan Banyak : 0.36999999999999983\nId : 65.0, Pengeluaran Sedikit : 0. Pengeluaran Sedang : 0, Pengeluaran Banyak : 1\nId : 66.0, Penghasilan Sedikit : 0, Penghasilan Sedang : 1, Penghasilan Banyak : 0\nId : 66.0, Pengeluaran Sedikit : 0. Pengeluaran Sedang : 0, Pengeluaran Banyak : 1\nId : 67.0, Penghasilan Sedikit : 0, Penghasilan Sedang : 0.44333333333333336, Penghasilan Banyak : 0.5566666666666666\nId : 67.0, Pengeluaran Sedikit : 0. Pengeluaran Sedang : 0, Pengeluaran Banyak : 1\nId : 68.0, Penghasilan Sedikit : 0, Penghasilan Sedang : 0.22000000000000006, Penghasilan Banyak : 0.7799999999999999\nId : 68.0, Pengeluaran Sedikit : 0. Pengeluaran Sedang : 0, Pengeluaran Banyak : 1\nId : 69.0, Penghasilan Sedikit : 0, Penghasilan Sedang : 1, Penghasilan Banyak : 0\nId : 69.0, Pengeluaran Sedikit : 0. Pengeluaran Sedang : 0, Pengeluaran Banyak : 1\nId : 70.0, Penghasilan Sedikit : 0, Penghasilan Sedang : 0, Penghasilan Banyak : 1\nId : 70.0, Pengeluaran Sedikit : 0. Pengeluaran Sedang : 0, Pengeluaran Banyak : 1\nId : 71.0, Penghasilan Sedikit : 0, Penghasilan Sedang : 0.009999999999999787, Penghasilan Banyak : 0.9900000000000002\nId : 71.0, Pengeluaran Sedikit : 0. Pengeluaran Sedang : 0, Pengeluaran Banyak : 1\nId : 72.0, Penghasilan Sedikit : 0, Penghasilan Sedang : 1, Penghasilan Banyak : 0\nId : 72.0, Pengeluaran Sedikit : 0. Pengeluaran Sedang : 1, Pengeluaran Banyak : 0\nId : 73.0, Penghasilan Sedikit : 0, Penghasilan Sedang : 0, Penghasilan Banyak : 1\nId : 73.0, Pengeluaran Sedikit : 0. Pengeluaran Sedang : 0, Pengeluaran Banyak : 1\nId : 74.0, Penghasilan Sedikit : 0, Penghasilan Sedang : 1, Penghasilan Banyak : 0\nId : 74.0, Pengeluaran Sedikit : 0. Pengeluaran Sedang : 1, Pengeluaran Banyak : 0\nId : 75.0, Penghasilan Sedikit : 0.7275, Penghasilan Sedang : 0.27249999999999996, Penghasilan Banyak : 0\nId : 75.0, Pengeluaran Sedikit : 0. Pengeluaran Sedang : 0, Pengeluaran Banyak : 1\nId : 76.0, Penghasilan Sedikit : 0, Penghasilan Sedang : 0.9433333333333334, Penghasilan Banyak : 0.05666666666666664\nId : 76.0, Pengeluaran Sedikit : 0. Pengeluaran Sedang : 0, Pengeluaran Banyak : 1\nId : 77.0, Penghasilan Sedikit : 0, Penghasilan Sedang : 0, Penghasilan Banyak : 1\nId : 77.0, Pengeluaran Sedikit : 0. Pengeluaran Sedang : 0, Pengeluaran Banyak : 1\nId : 78.0, Penghasilan Sedikit : 0, Penghasilan Sedang : 0, Penghasilan Banyak : 1\nId : 78.0, Pengeluaran Sedikit : 0. Pengeluaran Sedang : 0, Pengeluaran Banyak : 1\nId : 79.0, Penghasilan Sedikit : 0, Penghasilan Sedang : 1, Penghasilan Banyak : 0\nId : 79.0, Pengeluaran Sedikit : 0. Pengeluaran Sedang : 0, Pengeluaran Banyak : 1\nId : 80.0, Penghasilan Sedikit : 0, Penghasilan Sedang : 0, Penghasilan Banyak : 1\nId : 80.0, Pengeluaran Sedikit : 0. Pengeluaran Sedang : 0, Pengeluaran Banyak : 1\nId : 81.0, Penghasilan Sedikit : 0, Penghasilan Sedang : 1, Penghasilan Banyak : 0\nId : 81.0, Pengeluaran Sedikit : 0. Pengeluaran Sedang : 0, Pengeluaran Banyak : 1\nId : 82.0, Penghasilan Sedikit : 0, Penghasilan Sedang : 0, Penghasilan Banyak : 1\nId : 82.0, Pengeluaran Sedikit : 0. Pengeluaran Sedang : 0, Pengeluaran Banyak : 1\nId : 83.0, Penghasilan Sedikit : 0, Penghasilan Sedang : 0, Penghasilan Banyak : 1\nId : 83.0, Pengeluaran Sedikit : 0. Pengeluaran Sedang : 0, Pengeluaran Banyak : 1\nId : 84.0, Penghasilan Sedikit : 0, Penghasilan Sedang : 0.046666666666666856, Penghasilan Banyak : 0.9533333333333331\nId : 84.0, Pengeluaran Sedikit : 0. Pengeluaran Sedang : 0, Pengeluaran Banyak : 1\nId : 85.0, Penghasilan Sedikit : 0, Penghasilan Sedang : 0.023333333333333428, Penghasilan Banyak : 0.9766666666666666\nId : 85.0, Pengeluaran Sedikit : 0. Pengeluaran Sedang : 0, Pengeluaran Banyak : 1\nId : 86.0, Penghasilan Sedikit : 0, Penghasilan Sedang : 0.10000000000000024, Penghasilan Banyak : 0.8999999999999998\nId : 86.0, Pengeluaran Sedikit : 0. Pengeluaran Sedang : 0, Pengeluaran Banyak : 1\nId : 87.0, Penghasilan Sedikit : 0, Penghasilan Sedang : 0, Penghasilan Banyak : 1\nId : 87.0, Pengeluaran Sedikit : 0. Pengeluaran Sedang : 0, Pengeluaran Banyak : 1\nId : 88.0, Penghasilan Sedikit : 0, Penghasilan Sedang : 0, Penghasilan Banyak : 1\nId : 88.0, Pengeluaran Sedikit : 0. Pengeluaran Sedang : 0, Pengeluaran Banyak : 1\nId : 89.0, Penghasilan Sedikit : 0, Penghasilan Sedang : 0, Penghasilan Banyak : 1\nId : 89.0, Pengeluaran Sedikit : 0. Pengeluaran Sedang : 0, Pengeluaran Banyak : 1\nId : 90.0, Penghasilan Sedikit : 0, Penghasilan Sedang : 0, Penghasilan Banyak : 1\nId : 90.0, Pengeluaran Sedikit : 0. Pengeluaran Sedang : 0, Pengeluaran Banyak : 1\nId : 91.0, Penghasilan Sedikit : 0, Penghasilan Sedang : 0, Penghasilan Banyak : 1\nId : 91.0, Pengeluaran Sedikit : 0. Pengeluaran Sedang : 0, Pengeluaran Banyak : 1\nId : 92.0, Penghasilan Sedikit : 0, Penghasilan Sedang : 0, Penghasilan Banyak : 1\nId : 92.0, Pengeluaran Sedikit : 0. Pengeluaran Sedang : 0, Pengeluaran Banyak : 1\nId : 93.0, Penghasilan Sedikit : 0, Penghasilan Sedang : 1, Penghasilan Banyak : 0\nId : 93.0, Pengeluaran Sedikit : 0. Pengeluaran Sedang : 1, Pengeluaran Banyak : 0\nId : 94.0, Penghasilan Sedikit : 0, Penghasilan Sedang : 1, Penghasilan Banyak : 0\nId : 94.0, Pengeluaran Sedikit : 0. Pengeluaran Sedang : 0, Pengeluaran Banyak : 1\nId : 95.0, Penghasilan Sedikit : 0, Penghasilan Sedang : 0, Penghasilan Banyak : 1\nId : 95.0, Pengeluaran Sedikit : 0. Pengeluaran Sedang : 0, Pengeluaran Banyak : 1\nId : 96.0, Penghasilan Sedikit : 0, Penghasilan Sedang : 0, Penghasilan Banyak : 1\nId : 96.0, Pengeluaran Sedikit : 0. Pengeluaran Sedang : 0, Pengeluaran Banyak : 1\nId : 97.0, Penghasilan Sedikit : 0, Penghasilan Sedang : 0, Penghasilan Banyak : 1\nId : 97.0, Pengeluaran Sedikit : 0. Pengeluaran Sedang : 0, Pengeluaran Banyak : 1\nId : 98.0, Penghasilan Sedikit : 0, Penghasilan Sedang : 0.16000000000000014, Penghasilan Banyak : 0.8399999999999999\nId : 98.0, Pengeluaran Sedikit : 0. Pengeluaran Sedang : 0, Pengeluaran Banyak : 1\nId : 99.0, Penghasilan Sedikit : 0, Penghasilan Sedang : 1, Penghasilan Banyak : 0\nId : 99.0, Pengeluaran Sedikit : 0. Pengeluaran Sedang : 0, Pengeluaran Banyak : 1\nId : 100.0, Penghasilan Sedikit : 0.040000000000000036, Penghasilan Sedang : 0.96, Penghasilan Banyak : 0\nId : 100.0, Pengeluaran Sedikit : 0.040000000000000036. Pengeluaran Sedang : 0.96, Pengeluaran Banyak : 0\n\nId : 1.0, Inferens Ditolak : 0, Inferens Dipertimbangkan : 1, Inferens Diterima : 0\nId : 2.0, Inferens Ditolak : 0, Inferens Dipertimbangkan : 1, Inferens Diterima : 0\nId : 3.0, Inferens Ditolak : 0, Inferens Dipertimbangkan : 1, Inferens Diterima : 0\nId : 4.0, Inferens Ditolak : 0, Inferens Dipertimbangkan : 0, Inferens Diterima : 1\nId : 5.0, Inferens Ditolak : 0, Inferens Dipertimbangkan : 1, Inferens Diterima : 0\nId : 6.0, Inferens Ditolak : 0, Inferens Dipertimbangkan : 1, Inferens Diterima : 0\nId : 7.0, Inferens Ditolak : 0, Inferens Dipertimbangkan : 0, Inferens Diterima : 1\nId : 8.0, Inferens Ditolak : 0, Inferens Dipertimbangkan : 1, Inferens Diterima : 0\nId : 9.0, Inferens Ditolak : 0, Inferens Dipertimbangkan : 1, Inferens Diterima : 0\nId : 10.0, Inferens Ditolak : 0, Inferens Dipertimbangkan : 1, Inferens Diterima : 0\nId : 11.0, Inferens Ditolak : 0, Inferens Dipertimbangkan : 0, Inferens Diterima : 0.5549999999999999\nId : 12.0, Inferens Ditolak : 0, Inferens Dipertimbangkan : 0.7633333333333331, Inferens Diterima : 0.23666666666666694\nId : 13.0, Inferens Ditolak : 0, Inferens Dipertimbangkan : 0.15000000000000036, Inferens Diterima : 0.6125\nId : 14.0, Inferens Ditolak : 0, Inferens Dipertimbangkan : 0.3533333333333335, Inferens Diterima : 0.6466666666666665\nId : 15.0, Inferens Ditolak : 0, Inferens Dipertimbangkan : 1, Inferens Diterima : 0\nId : 16.0, Inferens Ditolak : 0, Inferens Dipertimbangkan : 0.1300000000000002, Inferens Diterima : 0.8699999999999998\nId : 17.0, Inferens Ditolak : 0, Inferens Dipertimbangkan : 1, Inferens Diterima : 0\nId : 18.0, Inferens Ditolak : 0, Inferens Dipertimbangkan : 1, Inferens Diterima : 0\nId : 19.0, Inferens Ditolak : 0, Inferens Dipertimbangkan : 1, Inferens Diterima : 0\nId : 20.0, Inferens Ditolak : 0, Inferens Dipertimbangkan : 1, Inferens Diterima : 0\nId : 21.0, Inferens Ditolak : 0, Inferens Dipertimbangkan : 1, Inferens Diterima : 0\nId : 22.0, Inferens Ditolak : 0, Inferens Dipertimbangkan : 1, Inferens Diterima : 0\nId : 23.0, Inferens Ditolak : 0, Inferens Dipertimbangkan : 0.8066666666666666, Inferens Diterima : 0.19333333333333336\nId : 24.0, Inferens Ditolak : 0, Inferens Dipertimbangkan : 1, Inferens Diterima : 0\nId : 25.0, Inferens Ditolak : 0, Inferens Dipertimbangkan : 0, Inferens Diterima : 0.6200000000000001\nId : 26.0, Inferens Ditolak : 0, Inferens Dipertimbangkan : 0.6666666666666666, Inferens Diterima : 0.3333333333333333\nId : 27.0, Inferens Ditolak : 0, Inferens Dipertimbangkan : 1, Inferens Diterima : 0\nId : 28.0, Inferens Ditolak : 0, Inferens Dipertimbangkan : 1, Inferens Diterima : 0\nId : 29.0, Inferens Ditolak : 0, Inferens Dipertimbangkan : 1, Inferens Diterima : 0\nId : 30.0, Inferens Ditolak : 0, Inferens Dipertimbangkan : 1, Inferens Diterima : 0\nId : 31.0, Inferens Ditolak : 0, Inferens Dipertimbangkan : 1, Inferens Diterima : 0\nId : 32.0, Inferens Ditolak : 0, Inferens Dipertimbangkan : 1, Inferens Diterima : 0\nId : 33.0, Inferens Ditolak : 0, Inferens Dipertimbangkan : 0, Inferens Diterima : 0.7575000000000001\nId : 34.0, Inferens Ditolak : 0, Inferens Dipertimbangkan : 1, Inferens Diterima : 0\nId : 35.0, Inferens Ditolak : 0, Inferens Dipertimbangkan : 1, Inferens Diterima : 0\nId : 36.0, Inferens Ditolak : 0, Inferens Dipertimbangkan : 0.64, Inferens Diterima : 0.36000000000000004\nId : 37.0, Inferens Ditolak : 0, Inferens Dipertimbangkan : 0.5066666666666665, Inferens Diterima : 0.49333333333333346\nId : 38.0, Inferens Ditolak : 0, Inferens Dipertimbangkan : 0, Inferens Diterima : 1\nId : 39.0, Inferens Ditolak : 0, Inferens Dipertimbangkan : 1, Inferens Diterima : 0\nId : 40.0, Inferens Ditolak : 0, Inferens Dipertimbangkan : 1, Inferens Diterima : 0\nId : 41.0, Inferens Ditolak : 0, Inferens Dipertimbangkan : 0, Inferens Diterima : 0.845\nId : 42.0, Inferens Ditolak : 0, Inferens Dipertimbangkan : 0.6866666666666669, Inferens Diterima : 0.3133333333333332\nId : 43.0, Inferens Ditolak : 0, Inferens Dipertimbangkan : 0.6766666666666664, Inferens Diterima : 0.32333333333333353\nId : 44.0, Inferens Ditolak : 0, Inferens Dipertimbangkan : 1, Inferens Diterima : 0\nId : 45.0, Inferens Ditolak : 0, Inferens Dipertimbangkan : 1, Inferens Diterima : 0\nId : 46.0, Inferens Ditolak : 0, Inferens Dipertimbangkan : 0, Inferens Diterima : 1\nId : 47.0, Inferens Ditolak : 0, Inferens Dipertimbangkan : 0, Inferens Diterima : 1\nId : 48.0, Inferens Ditolak : 0, Inferens Dipertimbangkan : 1, Inferens Diterima : 0\nId : 49.0, Inferens Ditolak : 0, Inferens Dipertimbangkan : 0, Inferens Diterima : 1\nId : 50.0, Inferens Ditolak : 0, Inferens Dipertimbangkan : 0, Inferens Diterima : 1\nId : 51.0, Inferens Ditolak : 0, Inferens Dipertimbangkan : 1, Inferens Diterima : 0\nId : 52.0, Inferens Ditolak : 0, Inferens Dipertimbangkan : 0, Inferens Diterima : 1\nId : 53.0, Inferens Ditolak : 0, Inferens Dipertimbangkan : 0.9166666666666666, Inferens Diterima : 0.08333333333333333\nId : 54.0, Inferens Ditolak : 0, Inferens Dipertimbangkan : 1, Inferens Diterima : 0\nId : 55.0, Inferens Ditolak : 0, Inferens Dipertimbangkan : 1, Inferens Diterima : 0\nId : 56.0, Inferens Ditolak : 0, Inferens Dipertimbangkan : 0.6033333333333335, Inferens Diterima : 0.3966666666666665\nId : 57.0, Inferens Ditolak : 0, Inferens Dipertimbangkan : 1, Inferens Diterima : 0\nId : 58.0, Inferens Ditolak : 0, Inferens Dipertimbangkan : 1, Inferens Diterima : 0\nId : 59.0, Inferens Ditolak : 0, Inferens Dipertimbangkan : 1, Inferens Diterima : 0\nId : 60.0, Inferens Ditolak : 0, Inferens Dipertimbangkan : 1, Inferens Diterima : 0\nId : 61.0, Inferens Ditolak : 0, Inferens Dipertimbangkan : 1, Inferens Diterima : 0\nId : 62.0, Inferens Ditolak : 0, Inferens Dipertimbangkan : 0.4366666666666668, Inferens Diterima : 0.5633333333333331\nId : 63.0, Inferens Ditolak : 0, Inferens Dipertimbangkan : 0, Inferens Diterima : 1\nId : 64.0, Inferens Ditolak : 0, Inferens Dipertimbangkan : 1, Inferens Diterima : 0\nId : 65.0, Inferens Ditolak : 0, Inferens Dipertimbangkan : 0.36999999999999983, Inferens Diterima : 0.6300000000000002\nId : 66.0, Inferens Ditolak : 0, Inferens Dipertimbangkan : 0, Inferens Diterima : 1\nId : 67.0, Inferens Ditolak : 0, Inferens Dipertimbangkan : 0.5566666666666666, Inferens Diterima : 0.44333333333333336\nId : 68.0, Inferens Ditolak : 0, Inferens Dipertimbangkan : 0.7799999999999999, Inferens Diterima : 0.22000000000000006\nId : 69.0, Inferens Ditolak : 0, Inferens Dipertimbangkan : 0, Inferens Diterima : 1\nId : 70.0, Inferens Ditolak : 0, Inferens Dipertimbangkan : 1, Inferens Diterima : 0\nId : 71.0, Inferens Ditolak : 0, Inferens Dipertimbangkan : 0.9900000000000002, Inferens Diterima : 0.009999999999999787\nId : 72.0, Inferens Ditolak : 0, Inferens Dipertimbangkan : 1, Inferens Diterima : 0\nId : 73.0, Inferens Ditolak : 0, Inferens Dipertimbangkan : 1, Inferens Diterima : 0\nId : 74.0, Inferens Ditolak : 0, Inferens Dipertimbangkan : 1, Inferens Diterima : 0\nId : 75.0, Inferens Ditolak : 0, Inferens Dipertimbangkan : 0, Inferens Diterima : 0.7275\nId : 76.0, Inferens Ditolak : 0, Inferens Dipertimbangkan : 0.05666666666666664, Inferens Diterima : 0.9433333333333334\nId : 77.0, Inferens Ditolak : 0, Inferens Dipertimbangkan : 1, Inferens Diterima : 0\nId : 78.0, Inferens Ditolak : 0, Inferens Dipertimbangkan : 1, Inferens Diterima : 0\nId : 79.0, Inferens Ditolak : 0, Inferens Dipertimbangkan : 0, Inferens Diterima : 1\nId : 80.0, Inferens Ditolak : 0, Inferens Dipertimbangkan : 1, Inferens Diterima : 0\nId : 81.0, Inferens Ditolak : 0, Inferens Dipertimbangkan : 0, Inferens Diterima : 1\nId : 82.0, Inferens Ditolak : 0, Inferens Dipertimbangkan : 1, Inferens Diterima : 0\nId : 83.0, Inferens Ditolak : 0, Inferens Dipertimbangkan : 1, Inferens Diterima : 0\nId : 84.0, Inferens Ditolak : 0, Inferens Dipertimbangkan : 0.9533333333333331, Inferens Diterima : 0.046666666666666856\nId : 85.0, Inferens Ditolak : 0, Inferens Dipertimbangkan : 0.9766666666666666, Inferens Diterima : 0.023333333333333428\nId : 86.0, Inferens Ditolak : 0, Inferens Dipertimbangkan : 0.8999999999999998, Inferens Diterima : 0.10000000000000024\nId : 87.0, Inferens Ditolak : 0, Inferens Dipertimbangkan : 1, Inferens Diterima : 0\nId : 88.0, Inferens Ditolak : 0, Inferens Dipertimbangkan : 1, Inferens Diterima : 0\nId : 89.0, Inferens Ditolak : 0, Inferens Dipertimbangkan : 1, Inferens Diterima : 0\nId : 90.0, Inferens Ditolak : 0, Inferens Dipertimbangkan : 1, Inferens Diterima : 0\nId : 91.0, Inferens Ditolak : 0, Inferens Dipertimbangkan : 1, Inferens Diterima : 0\nId : 92.0, Inferens Ditolak : 0, Inferens Dipertimbangkan : 1, Inferens Diterima : 0\nId : 93.0, Inferens Ditolak : 0, Inferens Dipertimbangkan : 1, Inferens Diterima : 0\nId : 94.0, Inferens Ditolak : 0, Inferens Dipertimbangkan : 0, Inferens Diterima : 1\nId : 95.0, Inferens Ditolak : 0, Inferens Dipertimbangkan : 1, Inferens Diterima : 0\nId : 96.0, Inferens Ditolak : 0, Inferens Dipertimbangkan : 1, Inferens Diterima : 0\nId : 97.0, Inferens Ditolak : 0, Inferens Dipertimbangkan : 1, Inferens Diterima : 0\nId : 98.0, Inferens Ditolak : 0, Inferens Dipertimbangkan : 0.8399999999999999, Inferens Diterima : 0.16000000000000014\nId : 99.0, Inferens Ditolak : 0, Inferens Dipertimbangkan : 0, Inferens Diterima : 1\nId : 100.0, Inferens Ditolak : 0.040000000000000036, Inferens Dipertimbangkan : 0.96, Inferens Diterima : 0.040000000000000036\n\nId : 1.0, Nilai Defuzzifikasi : 43.0\nId : 2.0, Nilai Defuzzifikasi : 43.0\nId : 3.0, Nilai Defuzzifikasi : 43.0\nId : 4.0, Nilai Defuzzifikasi : 61.0\nId : 5.0, Nilai Defuzzifikasi : 43.0\nId : 6.0, Nilai Defuzzifikasi : 43.0\nId : 7.0, Nilai Defuzzifikasi : 61.0\nId : 8.0, Nilai Defuzzifikasi : 43.0\nId : 9.0, Nilai Defuzzifikasi : 43.0\nId : 10.0, Nilai Defuzzifikasi : 43.0\nId : 11.0, Nilai Defuzzifikasi : 61.0\nId : 12.0, Nilai Defuzzifikasi : 47.260000000000005\nId : 13.0, Nilai Defuzzifikasi : 55.449999999999996\nId : 14.0, Nilai Defuzzifikasi : 54.64\nId : 15.0, Nilai Defuzzifikasi : 43.0\nId : 16.0, Nilai Defuzzifikasi : 58.66\nId : 17.0, Nilai Defuzzifikasi : 43.0\nId : 18.0, Nilai Defuzzifikasi : 43.0\nId : 19.0, Nilai Defuzzifikasi : 43.0\nId : 20.0, Nilai Defuzzifikasi : 43.0\nId : 21.0, Nilai Defuzzifikasi : 43.0\nId : 22.0, Nilai Defuzzifikasi : 43.0\nId : 23.0, Nilai Defuzzifikasi : 46.480000000000004\nId : 24.0, Nilai Defuzzifikasi : 43.0\nId : 25.0, Nilai Defuzzifikasi : 61.0\nId : 26.0, Nilai Defuzzifikasi : 49.0\nId : 27.0, Nilai Defuzzifikasi : 43.0\nId : 28.0, Nilai Defuzzifikasi : 43.0\nId : 29.0, Nilai Defuzzifikasi : 43.0\nId : 30.0, Nilai Defuzzifikasi : 43.0\nId : 31.0, Nilai Defuzzifikasi : 43.0\nId : 32.0, Nilai Defuzzifikasi : 43.0\nId : 33.0, Nilai Defuzzifikasi : 61.0\nId : 34.0, Nilai Defuzzifikasi : 43.0\nId : 35.0, Nilai Defuzzifikasi : 43.0\nId : 36.0, Nilai Defuzzifikasi : 49.480000000000004\nId : 37.0, Nilai Defuzzifikasi : 51.879999999999995\nId : 38.0, Nilai Defuzzifikasi : 61.0\nId : 39.0, Nilai Defuzzifikasi : 43.0\nId : 40.0, Nilai Defuzzifikasi : 43.0\nId : 41.0, Nilai Defuzzifikasi : 61.00000000000001\nId : 42.0, Nilai Defuzzifikasi : 48.64\nId : 43.0, Nilai Defuzzifikasi : 48.82000000000001\nId : 44.0, Nilai Defuzzifikasi : 43.0\nId : 45.0, Nilai Defuzzifikasi : 43.0\nId : 46.0, Nilai Defuzzifikasi : 61.0\nId : 47.0, Nilai Defuzzifikasi : 61.0\nId : 48.0, Nilai Defuzzifikasi : 43.0\nId : 49.0, Nilai Defuzzifikasi : 61.0\nId : 50.0, Nilai Defuzzifikasi : 61.0\nId : 51.0, Nilai Defuzzifikasi : 43.0\nId : 52.0, Nilai Defuzzifikasi : 61.0\nId : 53.0, Nilai Defuzzifikasi : 44.5\nId : 54.0, Nilai Defuzzifikasi : 43.0\nId : 55.0, Nilai Defuzzifikasi : 43.0\nId : 56.0, Nilai Defuzzifikasi : 50.14\nId : 57.0, Nilai Defuzzifikasi : 43.0\nId : 58.0, Nilai Defuzzifikasi : 43.0\nId : 59.0, Nilai Defuzzifikasi : 43.0\nId : 60.0, Nilai Defuzzifikasi : 43.0\nId : 61.0, Nilai Defuzzifikasi : 43.0\nId : 62.0, Nilai Defuzzifikasi : 53.14\nId : 63.0, Nilai Defuzzifikasi : 61.0\nId : 64.0, Nilai Defuzzifikasi : 43.0\nId : 65.0, Nilai Defuzzifikasi : 54.34\nId : 66.0, Nilai Defuzzifikasi : 61.0\nId : 67.0, Nilai Defuzzifikasi : 50.980000000000004\nId : 68.0, Nilai Defuzzifikasi : 46.96\nId : 69.0, Nilai Defuzzifikasi : 61.0\nId : 70.0, Nilai Defuzzifikasi : 43.0\nId : 71.0, Nilai Defuzzifikasi : 43.17999999999999\nId : 72.0, Nilai Defuzzifikasi : 43.0\nId : 73.0, Nilai Defuzzifikasi : 43.0\nId : 74.0, Nilai Defuzzifikasi : 43.0\nId : 75.0, Nilai Defuzzifikasi : 61.00000000000001\nId : 76.0, Nilai Defuzzifikasi : 59.980000000000004\nId : 77.0, Nilai Defuzzifikasi : 43.0\nId : 78.0, Nilai Defuzzifikasi : 43.0\nId : 79.0, Nilai Defuzzifikasi : 61.0\nId : 80.0, Nilai Defuzzifikasi : 43.0\nId : 81.0, Nilai Defuzzifikasi : 61.0\nId : 82.0, Nilai Defuzzifikasi : 43.0\nId : 83.0, Nilai Defuzzifikasi : 43.0\nId : 84.0, Nilai Defuzzifikasi : 43.84\nId : 85.0, Nilai Defuzzifikasi : 43.42\nId : 86.0, Nilai Defuzzifikasi : 44.800000000000004\nId : 87.0, Nilai Defuzzifikasi : 43.0\nId : 88.0, Nilai Defuzzifikasi : 43.0\nId : 89.0, Nilai Defuzzifikasi : 43.0\nId : 90.0, Nilai Defuzzifikasi : 43.0\nId : 91.0, Nilai Defuzzifikasi : 43.0\nId : 92.0, Nilai Defuzzifikasi : 43.0\nId : 93.0, Nilai Defuzzifikasi : 43.0\nId : 94.0, Nilai Defuzzifikasi : 61.0\nId : 95.0, Nilai Defuzzifikasi : 43.0\nId : 96.0, Nilai Defuzzifikasi : 43.0\nId : 97.0, Nilai Defuzzifikasi : 43.0\nId : 98.0, Nilai Defuzzifikasi : 45.879999999999995\nId : 99.0, Nilai Defuzzifikasi : 61.0\nId : 100.0, Nilai Defuzzifikasi : 44.78615384615385\n\nId : 41.0, Nilai Defuzzifikasi : 61.00000000000001\nId : 75.0, Nilai Defuzzifikasi : 61.00000000000001\nId : 4.0, Nilai Defuzzifikasi : 61.0\nId : 7.0, Nilai Defuzzifikasi : 61.0\nId : 11.0, Nilai Defuzzifikasi : 61.0\nId : 25.0, Nilai Defuzzifikasi : 61.0\nId : 33.0, Nilai Defuzzifikasi : 61.0\nId : 38.0, Nilai Defuzzifikasi : 61.0\nId : 46.0, Nilai Defuzzifikasi : 61.0\nId : 47.0, Nilai Defuzzifikasi : 61.0\nId : 49.0, Nilai Defuzzifikasi : 61.0\nId : 50.0, Nilai Defuzzifikasi : 61.0\nId : 52.0, Nilai Defuzzifikasi : 61.0\nId : 63.0, Nilai Defuzzifikasi : 61.0\nId : 66.0, Nilai Defuzzifikasi : 61.0\nId : 69.0, Nilai Defuzzifikasi : 61.0\nId : 79.0, Nilai Defuzzifikasi : 61.0\nId : 81.0, Nilai Defuzzifikasi : 61.0\nId : 94.0, Nilai Defuzzifikasi : 61.0\nId : 99.0, Nilai Defuzzifikasi : 61.0\nId : 76.0, Nilai Defuzzifikasi : 59.980000000000004\nId : 16.0, Nilai Defuzzifikasi : 58.66\nId : 13.0, Nilai Defuzzifikasi : 55.449999999999996\nId : 14.0, Nilai Defuzzifikasi : 54.64\nId : 65.0, Nilai Defuzzifikasi : 54.34\nId : 62.0, Nilai Defuzzifikasi : 53.14\nId : 37.0, Nilai Defuzzifikasi : 51.879999999999995\nId : 67.0, Nilai Defuzzifikasi : 50.980000000000004\nId : 56.0, Nilai Defuzzifikasi : 50.14\nId : 36.0, Nilai Defuzzifikasi : 49.480000000000004\nId : 26.0, Nilai Defuzzifikasi : 49.0\nId : 43.0, Nilai Defuzzifikasi : 48.82000000000001\nId : 42.0, Nilai Defuzzifikasi : 48.64\nId : 12.0, Nilai Defuzzifikasi : 47.260000000000005\nId : 68.0, Nilai Defuzzifikasi : 46.96\nId : 23.0, Nilai Defuzzifikasi : 46.480000000000004\nId : 98.0, Nilai Defuzzifikasi : 45.879999999999995\nId : 86.0, Nilai Defuzzifikasi : 44.800000000000004\nId : 100.0, Nilai Defuzzifikasi : 44.78615384615385\nId : 53.0, Nilai Defuzzifikasi : 44.5\nId : 84.0, Nilai Defuzzifikasi : 43.84\nId : 85.0, Nilai Defuzzifikasi : 43.42\nId : 71.0, Nilai Defuzzifikasi : 43.17999999999999\nId : 44.0, Nilai Defuzzifikasi : 43.0\nId : 45.0, Nilai Defuzzifikasi : 43.0\nId : 9.0, Nilai Defuzzifikasi : 43.0\nId : 10.0, Nilai Defuzzifikasi : 43.0\nId : 48.0, Nilai Defuzzifikasi : 43.0\nId : 5.0, Nilai Defuzzifikasi : 43.0\nId : 34.0, Nilai Defuzzifikasi : 43.0\nId : 51.0, Nilai Defuzzifikasi : 43.0\nId : 30.0, Nilai Defuzzifikasi : 43.0\nId : 40.0, Nilai Defuzzifikasi : 43.0\nId : 54.0, Nilai Defuzzifikasi : 43.0\nId : 55.0, Nilai Defuzzifikasi : 43.0\nId : 29.0, Nilai Defuzzifikasi : 43.0\nId : 57.0, Nilai Defuzzifikasi : 43.0\nId : 58.0, Nilai Defuzzifikasi : 43.0\nId : 59.0, Nilai Defuzzifikasi : 43.0\nId : 60.0, Nilai Defuzzifikasi : 43.0\nId : 61.0, Nilai Defuzzifikasi : 43.0\nId : 31.0, Nilai Defuzzifikasi : 43.0\nId : 24.0, Nilai Defuzzifikasi : 43.0\nId : 64.0, Nilai Defuzzifikasi : 43.0\nId : 6.0, Nilai Defuzzifikasi : 43.0\nId : 15.0, Nilai Defuzzifikasi : 43.0\nId : 28.0, Nilai Defuzzifikasi : 43.0\nId : 35.0, Nilai Defuzzifikasi : 43.0\nId : 22.0, Nilai Defuzzifikasi : 43.0\nId : 70.0, Nilai Defuzzifikasi : 43.0\nId : 32.0, Nilai Defuzzifikasi : 43.0\nId : 72.0, Nilai Defuzzifikasi : 43.0\nId : 73.0, Nilai Defuzzifikasi : 43.0\nId : 74.0, Nilai Defuzzifikasi : 43.0\nId : 2.0, Nilai Defuzzifikasi : 43.0\nId : 21.0, Nilai Defuzzifikasi : 43.0\nId : 77.0, Nilai Defuzzifikasi : 43.0\nId : 78.0, Nilai Defuzzifikasi : 43.0\nId : 17.0, Nilai Defuzzifikasi : 43.0\nId : 80.0, Nilai Defuzzifikasi : 43.0\nId : 18.0, Nilai Defuzzifikasi : 43.0\nId : 82.0, Nilai Defuzzifikasi : 43.0\nId : 83.0, Nilai Defuzzifikasi : 43.0\nId : 1.0, Nilai Defuzzifikasi : 43.0\nId : 3.0, Nilai Defuzzifikasi : 43.0\nId : 8.0, Nilai Defuzzifikasi : 43.0\nId : 87.0, Nilai Defuzzifikasi : 43.0\nId : 88.0, Nilai Defuzzifikasi : 43.0\nId : 89.0, Nilai Defuzzifikasi : 43.0\nId : 90.0, Nilai Defuzzifikasi : 43.0\nId : 91.0, Nilai Defuzzifikasi : 43.0\nId : 92.0, Nilai Defuzzifikasi : 43.0\nId : 93.0, Nilai Defuzzifikasi : 43.0\nId : 19.0, Nilai Defuzzifikasi : 43.0\nId : 95.0, Nilai Defuzzifikasi : 43.0\nId : 96.0, Nilai Defuzzifikasi : 43.0\nId : 97.0, Nilai Defuzzifikasi : 43.0\nId : 27.0, Nilai Defuzzifikasi : 43.0\nId : 20.0, Nilai Defuzzifikasi : 43.0\nId : 39.0, Nilai Defuzzifikasi : 43.0\n"
     ]
    }
   ],
   "source": [
    "# Declaration\n",
    "list_mhs = []\n",
    "\n",
    "# Convertion to list\n",
    "list_mhs = converts(df)\n",
    "\n",
    "for i in range (len(list_mhs)):\n",
    "    print(\"Id : {}, Penghasilan : {}, Pengeluaran : {}\".format(list_mhs[i].id,list_mhs[i].penghasilan,list_mhs[i].pengeluaran))\n",
    "\n",
    "# Fuzzification\n",
    "print()\n",
    "for i in range(len(list_mhs)):\n",
    "    list_mhs[i] = fuzzificationPenghasilan(list_mhs[i])\n",
    "    print(\"Id : {}, Penghasilan Sedikit : {}, Penghasilan Sedang : {}, Penghasilan Banyak : {}\".format(list_mhs[i].id, list_mhs[i].fuzzyPenghasilanSedikit, list_mhs[i].fuzzyPenghasilanSedang, list_mhs[i].fuzzyPenghasilanBanyak))\n",
    "\n",
    "    list_mhs[i] = fuzzificationPengeluaran(list_mhs[i])\n",
    "    print(\"Id : {}, Pengeluaran Sedikit : {}. Pengeluaran Sedang : {}, Pengeluaran Banyak : {}\".format(list_mhs[i].id, list_mhs[i].fuzzyPengeluaranSedikit, list_mhs[i].fuzzyPengeluaranSedang, list_mhs[i].fuzzyPengeluaranBanyak))\n",
    "\n",
    "# Inferences\n",
    "print()\n",
    "for i in range(len(list_mhs)):\n",
    "    list_mhs[i].inferenceDitolak, list_mhs[i].inferenceDipertimbangkan, list_mhs[i].inferenceDiterima = inferences(list_mhs[i])\n",
    "    print(\"Id : {}, Inferens Ditolak : {}, Inferens Dipertimbangkan : {}, Inferens Diterima : {}\".format(list_mhs[i].id, list_mhs[i].inferenceDitolak, list_mhs[i].inferenceDipertimbangkan, list_mhs[i].inferenceDiterima))\n",
    "\n",
    "# Defuzzification\n",
    "print()\n",
    "for i in range(len(list_mhs)):\n",
    "    list_mhs[i].valDefuzzy = defuzzification(list_mhs[i])\n",
    "    print(\"Id : {}, Nilai Defuzzifikasi : {}\".format(list_mhs[i].id, list_mhs[i].valDefuzzy))\n",
    "\n",
    "# Sorting\n",
    "print()\n",
    "list_mhs = selectionSort(list_mhs)\n",
    "for i in range(len(list_mhs)):\n",
    "    list_mhs[i].valDefuzzy = defuzzification(list_mhs[i])\n",
    "    print(\"Id : {}, Nilai Defuzzifikasi : {}\".format(list_mhs[i].id, list_mhs[i].valDefuzzy))\n"
   ]
  }
 ]
}